{
 "cells": [
  {
   "cell_type": "code",
   "execution_count": 1,
   "id": "2c3bc4a2",
   "metadata": {},
   "outputs": [
    {
     "data": {
      "text/html": [
       "<div>\n",
       "<style scoped>\n",
       "    .dataframe tbody tr th:only-of-type {\n",
       "        vertical-align: middle;\n",
       "    }\n",
       "\n",
       "    .dataframe tbody tr th {\n",
       "        vertical-align: top;\n",
       "    }\n",
       "\n",
       "    .dataframe thead th {\n",
       "        text-align: right;\n",
       "    }\n",
       "</style>\n",
       "<table border=\"1\" class=\"dataframe\">\n",
       "  <thead>\n",
       "    <tr style=\"text-align: right;\">\n",
       "      <th></th>\n",
       "      <th>PassengerId</th>\n",
       "      <th>Survived</th>\n",
       "      <th>Pclass</th>\n",
       "      <th>Name</th>\n",
       "      <th>Sex</th>\n",
       "      <th>Age</th>\n",
       "      <th>SibSp</th>\n",
       "      <th>Parch</th>\n",
       "      <th>Ticket</th>\n",
       "      <th>Fare</th>\n",
       "      <th>Cabin</th>\n",
       "      <th>Embarked</th>\n",
       "    </tr>\n",
       "  </thead>\n",
       "  <tbody>\n",
       "    <tr>\n",
       "      <th>0</th>\n",
       "      <td>1</td>\n",
       "      <td>0</td>\n",
       "      <td>3</td>\n",
       "      <td>Braund, Mr. Owen Harris</td>\n",
       "      <td>male</td>\n",
       "      <td>22.0</td>\n",
       "      <td>1</td>\n",
       "      <td>0</td>\n",
       "      <td>A/5 21171</td>\n",
       "      <td>7.2500</td>\n",
       "      <td>NaN</td>\n",
       "      <td>S</td>\n",
       "    </tr>\n",
       "    <tr>\n",
       "      <th>1</th>\n",
       "      <td>2</td>\n",
       "      <td>1</td>\n",
       "      <td>1</td>\n",
       "      <td>Cumings, Mrs. John Bradley (Florence Briggs Th...</td>\n",
       "      <td>female</td>\n",
       "      <td>38.0</td>\n",
       "      <td>1</td>\n",
       "      <td>0</td>\n",
       "      <td>PC 17599</td>\n",
       "      <td>71.2833</td>\n",
       "      <td>C85</td>\n",
       "      <td>C</td>\n",
       "    </tr>\n",
       "    <tr>\n",
       "      <th>2</th>\n",
       "      <td>3</td>\n",
       "      <td>1</td>\n",
       "      <td>3</td>\n",
       "      <td>Heikkinen, Miss. Laina</td>\n",
       "      <td>female</td>\n",
       "      <td>26.0</td>\n",
       "      <td>0</td>\n",
       "      <td>0</td>\n",
       "      <td>STON/O2. 3101282</td>\n",
       "      <td>7.9250</td>\n",
       "      <td>NaN</td>\n",
       "      <td>S</td>\n",
       "    </tr>\n",
       "    <tr>\n",
       "      <th>3</th>\n",
       "      <td>4</td>\n",
       "      <td>1</td>\n",
       "      <td>1</td>\n",
       "      <td>Futrelle, Mrs. Jacques Heath (Lily May Peel)</td>\n",
       "      <td>female</td>\n",
       "      <td>35.0</td>\n",
       "      <td>1</td>\n",
       "      <td>0</td>\n",
       "      <td>113803</td>\n",
       "      <td>53.1000</td>\n",
       "      <td>C123</td>\n",
       "      <td>S</td>\n",
       "    </tr>\n",
       "    <tr>\n",
       "      <th>4</th>\n",
       "      <td>5</td>\n",
       "      <td>0</td>\n",
       "      <td>3</td>\n",
       "      <td>Allen, Mr. William Henry</td>\n",
       "      <td>male</td>\n",
       "      <td>35.0</td>\n",
       "      <td>0</td>\n",
       "      <td>0</td>\n",
       "      <td>373450</td>\n",
       "      <td>8.0500</td>\n",
       "      <td>NaN</td>\n",
       "      <td>S</td>\n",
       "    </tr>\n",
       "  </tbody>\n",
       "</table>\n",
       "</div>"
      ],
      "text/plain": [
       "   PassengerId  Survived  Pclass  \\\n",
       "0            1         0       3   \n",
       "1            2         1       1   \n",
       "2            3         1       3   \n",
       "3            4         1       1   \n",
       "4            5         0       3   \n",
       "\n",
       "                                                Name     Sex   Age  SibSp  \\\n",
       "0                            Braund, Mr. Owen Harris    male  22.0      1   \n",
       "1  Cumings, Mrs. John Bradley (Florence Briggs Th...  female  38.0      1   \n",
       "2                             Heikkinen, Miss. Laina  female  26.0      0   \n",
       "3       Futrelle, Mrs. Jacques Heath (Lily May Peel)  female  35.0      1   \n",
       "4                           Allen, Mr. William Henry    male  35.0      0   \n",
       "\n",
       "   Parch            Ticket     Fare Cabin Embarked  \n",
       "0      0         A/5 21171   7.2500   NaN        S  \n",
       "1      0          PC 17599  71.2833   C85        C  \n",
       "2      0  STON/O2. 3101282   7.9250   NaN        S  \n",
       "3      0            113803  53.1000  C123        S  \n",
       "4      0            373450   8.0500   NaN        S  "
      ]
     },
     "execution_count": 1,
     "metadata": {},
     "output_type": "execute_result"
    }
   ],
   "source": [
    "# Getting the dataset\n",
    "\n",
    "import pandas as pd\n",
    "train=pd.read_csv(\"C:/Users/DELL/Downloads/train.csv\")\n",
    "train.head()"
   ]
  },
  {
   "cell_type": "code",
   "execution_count": 2,
   "id": "0df2c105",
   "metadata": {},
   "outputs": [
    {
     "data": {
      "text/html": [
       "<div>\n",
       "<style scoped>\n",
       "    .dataframe tbody tr th:only-of-type {\n",
       "        vertical-align: middle;\n",
       "    }\n",
       "\n",
       "    .dataframe tbody tr th {\n",
       "        vertical-align: top;\n",
       "    }\n",
       "\n",
       "    .dataframe thead th {\n",
       "        text-align: right;\n",
       "    }\n",
       "</style>\n",
       "<table border=\"1\" class=\"dataframe\">\n",
       "  <thead>\n",
       "    <tr style=\"text-align: right;\">\n",
       "      <th></th>\n",
       "      <th>PassengerId</th>\n",
       "      <th>Survived</th>\n",
       "      <th>Pclass</th>\n",
       "      <th>Name</th>\n",
       "      <th>Sex</th>\n",
       "      <th>Age</th>\n",
       "      <th>SibSp</th>\n",
       "      <th>Parch</th>\n",
       "      <th>Ticket</th>\n",
       "      <th>Fare</th>\n",
       "      <th>Cabin</th>\n",
       "      <th>Embarked</th>\n",
       "    </tr>\n",
       "  </thead>\n",
       "  <tbody>\n",
       "    <tr>\n",
       "      <th>249</th>\n",
       "      <td>250</td>\n",
       "      <td>0</td>\n",
       "      <td>2</td>\n",
       "      <td>Carter, Rev. Ernest Courtenay</td>\n",
       "      <td>male</td>\n",
       "      <td>54.0</td>\n",
       "      <td>1</td>\n",
       "      <td>0</td>\n",
       "      <td>244252</td>\n",
       "      <td>26.0</td>\n",
       "      <td>NaN</td>\n",
       "      <td>S</td>\n",
       "    </tr>\n",
       "    <tr>\n",
       "      <th>390</th>\n",
       "      <td>391</td>\n",
       "      <td>1</td>\n",
       "      <td>1</td>\n",
       "      <td>Carter, Mr. William Ernest</td>\n",
       "      <td>male</td>\n",
       "      <td>36.0</td>\n",
       "      <td>1</td>\n",
       "      <td>2</td>\n",
       "      <td>113760</td>\n",
       "      <td>120.0</td>\n",
       "      <td>B96 B98</td>\n",
       "      <td>S</td>\n",
       "    </tr>\n",
       "    <tr>\n",
       "      <th>435</th>\n",
       "      <td>436</td>\n",
       "      <td>1</td>\n",
       "      <td>1</td>\n",
       "      <td>Carter, Miss. Lucile Polk</td>\n",
       "      <td>female</td>\n",
       "      <td>14.0</td>\n",
       "      <td>1</td>\n",
       "      <td>2</td>\n",
       "      <td>113760</td>\n",
       "      <td>120.0</td>\n",
       "      <td>B96 B98</td>\n",
       "      <td>S</td>\n",
       "    </tr>\n",
       "    <tr>\n",
       "      <th>763</th>\n",
       "      <td>764</td>\n",
       "      <td>1</td>\n",
       "      <td>1</td>\n",
       "      <td>Carter, Mrs. William Ernest (Lucile Polk)</td>\n",
       "      <td>female</td>\n",
       "      <td>36.0</td>\n",
       "      <td>1</td>\n",
       "      <td>2</td>\n",
       "      <td>113760</td>\n",
       "      <td>120.0</td>\n",
       "      <td>B96 B98</td>\n",
       "      <td>S</td>\n",
       "    </tr>\n",
       "    <tr>\n",
       "      <th>802</th>\n",
       "      <td>803</td>\n",
       "      <td>1</td>\n",
       "      <td>1</td>\n",
       "      <td>Carter, Master. William Thornton II</td>\n",
       "      <td>male</td>\n",
       "      <td>11.0</td>\n",
       "      <td>1</td>\n",
       "      <td>2</td>\n",
       "      <td>113760</td>\n",
       "      <td>120.0</td>\n",
       "      <td>B96 B98</td>\n",
       "      <td>S</td>\n",
       "    </tr>\n",
       "    <tr>\n",
       "      <th>854</th>\n",
       "      <td>855</td>\n",
       "      <td>0</td>\n",
       "      <td>2</td>\n",
       "      <td>Carter, Mrs. Ernest Courtenay (Lilian Hughes)</td>\n",
       "      <td>female</td>\n",
       "      <td>44.0</td>\n",
       "      <td>1</td>\n",
       "      <td>0</td>\n",
       "      <td>244252</td>\n",
       "      <td>26.0</td>\n",
       "      <td>NaN</td>\n",
       "      <td>S</td>\n",
       "    </tr>\n",
       "  </tbody>\n",
       "</table>\n",
       "</div>"
      ],
      "text/plain": [
       "     PassengerId  Survived  Pclass  \\\n",
       "249          250         0       2   \n",
       "390          391         1       1   \n",
       "435          436         1       1   \n",
       "763          764         1       1   \n",
       "802          803         1       1   \n",
       "854          855         0       2   \n",
       "\n",
       "                                              Name     Sex   Age  SibSp  \\\n",
       "249                  Carter, Rev. Ernest Courtenay    male  54.0      1   \n",
       "390                     Carter, Mr. William Ernest    male  36.0      1   \n",
       "435                      Carter, Miss. Lucile Polk  female  14.0      1   \n",
       "763      Carter, Mrs. William Ernest (Lucile Polk)  female  36.0      1   \n",
       "802            Carter, Master. William Thornton II    male  11.0      1   \n",
       "854  Carter, Mrs. Ernest Courtenay (Lilian Hughes)  female  44.0      1   \n",
       "\n",
       "     Parch  Ticket   Fare    Cabin Embarked  \n",
       "249      0  244252   26.0      NaN        S  \n",
       "390      2  113760  120.0  B96 B98        S  \n",
       "435      2  113760  120.0  B96 B98        S  \n",
       "763      2  113760  120.0  B96 B98        S  \n",
       "802      2  113760  120.0  B96 B98        S  \n",
       "854      0  244252   26.0      NaN        S  "
      ]
     },
     "execution_count": 2,
     "metadata": {},
     "output_type": "execute_result"
    }
   ],
   "source": [
    "# Extracting data of all the Carters\n",
    "\n",
    "current_passenger=train[train[\"PassengerId\"].eq(250)]\n",
    "last_name=current_passenger.Name.to_string(index=False).split(',')[0]\n",
    "train[train[\"Name\"].str.contains(last_name)]"
   ]
  },
  {
   "cell_type": "code",
   "execution_count": 3,
   "id": "f66dba71",
   "metadata": {},
   "outputs": [
    {
     "name": "stdout",
     "output_type": "stream",
     "text": [
      "     PassengerId  Survived  Pclass  \\\n",
      "390          391         1       1   \n",
      "435          436         1       1   \n",
      "763          764         1       1   \n",
      "802          803         1       1   \n",
      "854          855         0       2   \n",
      "\n",
      "                                              Name     Sex   Age  SibSp  \\\n",
      "390                     Carter, Mr. William Ernest    male  36.0      1   \n",
      "435                      Carter, Miss. Lucile Polk  female  14.0      1   \n",
      "763      Carter, Mrs. William Ernest (Lucile Polk)  female  36.0      1   \n",
      "802            Carter, Master. William Thornton II    male  11.0      1   \n",
      "854  Carter, Mrs. Ernest Courtenay (Lilian Hughes)  female  44.0      1   \n",
      "\n",
      "     Parch  Ticket   Fare    Cabin Embarked  \n",
      "390      2  113760  120.0  B96 B98        S  \n",
      "435      2  113760  120.0  B96 B98        S  \n",
      "763      2  113760  120.0  B96 B98        S  \n",
      "802      2  113760  120.0  B96 B98        S  \n",
      "854      0  244252   26.0      NaN        S  \n"
     ]
    }
   ],
   "source": [
    "# Defining the Carters to be a new dataset\n",
    "\n",
    "ticket=current_passenger[\"Ticket\"].to_string(index=False)\n",
    "passengerId=current_passenger[\"PassengerId\"]\n",
    "\n",
    "group=train[train[\"PassengerId\"].ne(passengerId) & (train[\"Name\"].str.contains(last_name) | train[\"Ticket\"].eq(ticket))]\n",
    "\n",
    "print(group)"
   ]
  },
  {
   "cell_type": "code",
   "execution_count": 4,
   "id": "951e5d0a",
   "metadata": {},
   "outputs": [
    {
     "name": "stdout",
     "output_type": "stream",
     "text": [
      "0 000 Carter, Mr. William Ernest\n",
      "1 001 Carter, Miss. Lucile Polk\n",
      "2 010 Carter, Mrs. William Ernest (Lucile Polk)\n",
      "3 011 Carter, Master. William Thornton II\n",
      "4 100 Carter, Mrs. Ernest Courtenay (Lilian Hughes)\n"
     ]
    }
   ],
   "source": [
    "# Encoding our passengers \n",
    "\n",
    "QUBITS=3\n",
    "\n",
    "def encode(pos):\n",
    "    bpos=\"{:0{}b}\".format(pos, QUBITS)\n",
    "    return bpos\n",
    "\n",
    "number_of_rows=len(group.index)\n",
    "for pos in range(0, 2**QUBITS):\n",
    "    if pos>=number_of_rows:\n",
    "        break\n",
    "        \n",
    "    passenger=group.iloc[[pos]]\n",
    "    print(pos, encode(pos), passenger.Name.to_string(index=False))"
   ]
  },
  {
   "cell_type": "code",
   "execution_count": 5,
   "id": "b5e27e27",
   "metadata": {},
   "outputs": [
    {
     "data": {
      "text/html": [
       "<pre style=\"word-wrap: normal;white-space: pre;background: #fff0;line-height: 1.1;font-family: &quot;Courier New&quot;,Courier,monospace\">             ┌───┐ ░ \n",
       "passenger_0: ┤ H ├─░─\n",
       "             ├───┤ ░ \n",
       "passenger_1: ┤ H ├─░─\n",
       "             ├───┤ ░ \n",
       "passenger_2: ┤ H ├─░─\n",
       "             └───┘ ░ \n",
       "    rules_0: ──────░─\n",
       "                   ░ \n",
       "    rules_1: ──────░─\n",
       "                   ░ </pre>"
      ],
      "text/plain": [
       "             ┌───┐ ░ \n",
       "passenger_0: ┤ H ├─░─\n",
       "             ├───┤ ░ \n",
       "passenger_1: ┤ H ├─░─\n",
       "             ├───┤ ░ \n",
       "passenger_2: ┤ H ├─░─\n",
       "             └───┘ ░ \n",
       "    rules_0: ──────░─\n",
       "                   ░ \n",
       "    rules_1: ──────░─\n",
       "                   ░ "
      ]
     },
     "execution_count": 5,
     "metadata": {},
     "output_type": "execute_result"
    }
   ],
   "source": [
    "# Creating uniform superposition of the states\n",
    "\n",
    "from qiskit import QuantumRegister, QuantumCircuit\n",
    "\n",
    "RULES=2\n",
    "\n",
    "q_pass=QuantumRegister(QUBITS, name='passenger')\n",
    "q_rules=QuantumRegister(RULES, name='rules')\n",
    "\n",
    "qc=QuantumCircuit(q_pass, q_rules)\n",
    "\n",
    "qc.h(q_pass)\n",
    "qc.barrier()\n",
    "\n",
    "qc.draw()"
   ]
  },
  {
   "cell_type": "code",
   "execution_count": 6,
   "id": "4722edce",
   "metadata": {},
   "outputs": [],
   "source": [
    "# Defining our oracle\n",
    "\n",
    "def oracle(passenger, group, q_p, q_r, draw=False):\n",
    "    o_qc=QuantumCircuit(q_p, q_r)\n",
    "    \n",
    "    for pos in range(0, 2**QUBITS):\n",
    "        if pos>=len(group.index):\n",
    "            break\n",
    "            \n",
    "        bpos=encode(pos)\n",
    "        \n",
    "        select_state(bpos, o_qc, q_p)\n",
    "        \n",
    "        apply_rules(passenger, group.iloc[[pos]], o_qc, q_p, q_r)\n",
    "        \n",
    "        select_state(bpos, o_qc, q_p)\n",
    "        \n",
    "        if draw:\n",
    "            o_qc.barrier()\n",
    "            \n",
    "    if draw:\n",
    "        return o_qc.draw()\n",
    "    \n",
    "    else:\n",
    "        Oracle=o_qc.to_gate()\n",
    "        Oracle.name=\"oracle\"\n",
    "        return Oracle"
   ]
  },
  {
   "cell_type": "code",
   "execution_count": 7,
   "id": "dbfc8c0c",
   "metadata": {},
   "outputs": [],
   "source": [
    "# Defining a function to select/unselect the states to mark their amplitudes\n",
    "\n",
    "def select_state(bpos, qc, qubits):\n",
    "    for i in range(0, QUBITS):\n",
    "        if bpos[::-1][i]==\"0\":\n",
    "            qc.x(qubits[i])"
   ]
  },
  {
   "cell_type": "code",
   "execution_count": 8,
   "id": "a5172612",
   "metadata": {},
   "outputs": [],
   "source": [
    "# Defining the rules\n",
    "\n",
    "from qiskit.circuit.library import ZGate\n",
    "\n",
    "def apply_rules(passenger, current, qc, q_p, q_r):\n",
    "    \n",
    "    if passenger.Ticket.to_string(index=False)==current.Ticket.to_string(index=False):\n",
    "        qc.mcx(q_p, q_r[0])\n",
    "        \n",
    "    if passenger.Name.to_string(index=False).split(',')[0]==current.Name.to_string(index=False).split(',')[0]:\n",
    "        qc.mcx(q_p, q_r[1])\n",
    "        \n",
    "    qc.append(ZGate().control(QUBITS+RULES-1), [*q_p, *q_r])\n",
    "\n",
    "    if passenger.Name.to_string(index=False).split(',')[0]==current.Name.to_string(index=False).split(',')[0]:\n",
    "        qc.mcx(q_p, q_r[1])    \n",
    "    \n",
    "    if passenger.Ticket.to_string(index=False)==current.Ticket.to_string(index=False):\n",
    "        qc.mcx(q_p, q_r[0])"
   ]
  },
  {
   "cell_type": "code",
   "execution_count": 9,
   "id": "07a090f8",
   "metadata": {},
   "outputs": [
    {
     "data": {
      "text/html": [
       "<pre style=\"word-wrap: normal;white-space: pre;background: #fff0;line-height: 1.1;font-family: &quot;Courier New&quot;,Courier,monospace\">             ┌───┐             ┌───┐ ░                         ░ ┌───┐        »\n",
       "passenger_0: ┤ X ├──■───■───■──┤ X ├─░────────■───■───■────────░─┤ X ├──■───■─»\n",
       "             ├───┤  │   │   │  ├───┤ ░ ┌───┐  │   │   │  ┌───┐ ░ └───┘  │   │ »\n",
       "passenger_1: ┤ X ├──■───■───■──┤ X ├─░─┤ X ├──■───■───■──┤ X ├─░────────■───■─»\n",
       "             ├───┤  │   │   │  ├───┤ ░ ├───┤  │   │   │  ├───┤ ░ ┌───┐  │   │ »\n",
       "passenger_2: ┤ X ├──■───■───■──┤ X ├─░─┤ X ├──■───■───■──┤ X ├─░─┤ X ├──■───■─»\n",
       "             └───┘  │   │   │  └───┘ ░ └───┘  │   │   │  └───┘ ░ └───┘  │   │ »\n",
       "    rules_0: ───────┼───■───┼────────░────────┼───■───┼────────░────────┼───■─»\n",
       "                  ┌─┴─┐ │ ┌─┴─┐      ░      ┌─┴─┐ │ ┌─┴─┐      ░      ┌─┴─┐ │ »\n",
       "    rules_1: ─────┤ X ├─■─┤ X ├──────░──────┤ X ├─■─┤ X ├──────░──────┤ X ├─■─»\n",
       "                  └───┘   └───┘      ░      └───┘   └───┘      ░      └───┘   »\n",
       "«                  ┌───┐ ░                         ░ ┌───┐                  »\n",
       "«passenger_0: ──■──┤ X ├─░────────■───■───■────────░─┤ X ├──■────■───■───■──»\n",
       "«               │  └───┘ ░        │   │   │        ░ ├───┤  │    │   │   │  »\n",
       "«passenger_1: ──■────────░────────■───■───■────────░─┤ X ├──■────■───■───■──»\n",
       "«               │  ┌───┐ ░ ┌───┐  │   │   │  ┌───┐ ░ └───┘  │    │   │   │  »\n",
       "«passenger_2: ──■──┤ X ├─░─┤ X ├──■───■───■──┤ X ├─░────────■────■───■───■──»\n",
       "«               │  └───┘ ░ └───┘  │   │   │  └───┘ ░      ┌─┴─┐  │   │   │  »\n",
       "«    rules_0: ──┼────────░────────┼───■───┼────────░──────┤ X ├──┼───■───┼──»\n",
       "«             ┌─┴─┐      ░      ┌─┴─┐ │ ┌─┴─┐      ░      └───┘┌─┴─┐ │ ┌─┴─┐»\n",
       "«    rules_1: ┤ X ├──────░──────┤ X ├─■─┤ X ├──────░───────────┤ X ├─■─┤ X ├»\n",
       "«             └───┘      ░      └───┘   └───┘      ░           └───┘   └───┘»\n",
       "«                  ┌───┐ ░ \n",
       "«passenger_0: ──■──┤ X ├─░─\n",
       "«               │  ├───┤ ░ \n",
       "«passenger_1: ──■──┤ X ├─░─\n",
       "«               │  └───┘ ░ \n",
       "«passenger_2: ──■────────░─\n",
       "«             ┌─┴─┐      ░ \n",
       "«    rules_0: ┤ X ├──────░─\n",
       "«             └───┘      ░ \n",
       "«    rules_1: ───────────░─\n",
       "«                        ░ </pre>"
      ],
      "text/plain": [
       "             ┌───┐             ┌───┐ ░                         ░ ┌───┐        »\n",
       "passenger_0: ┤ X ├──■───■───■──┤ X ├─░────────■───■───■────────░─┤ X ├──■───■─»\n",
       "             ├───┤  │   │   │  ├───┤ ░ ┌───┐  │   │   │  ┌───┐ ░ └───┘  │   │ »\n",
       "passenger_1: ┤ X ├──■───■───■──┤ X ├─░─┤ X ├──■───■───■──┤ X ├─░────────■───■─»\n",
       "             ├───┤  │   │   │  ├───┤ ░ ├───┤  │   │   │  ├───┤ ░ ┌───┐  │   │ »\n",
       "passenger_2: ┤ X ├──■───■───■──┤ X ├─░─┤ X ├──■───■───■──┤ X ├─░─┤ X ├──■───■─»\n",
       "             └───┘  │   │   │  └───┘ ░ └───┘  │   │   │  └───┘ ░ └───┘  │   │ »\n",
       "    rules_0: ───────┼───■───┼────────░────────┼───■───┼────────░────────┼───■─»\n",
       "                  ┌─┴─┐ │ ┌─┴─┐      ░      ┌─┴─┐ │ ┌─┴─┐      ░      ┌─┴─┐ │ »\n",
       "    rules_1: ─────┤ X ├─■─┤ X ├──────░──────┤ X ├─■─┤ X ├──────░──────┤ X ├─■─»\n",
       "                  └───┘   └───┘      ░      └───┘   └───┘      ░      └───┘   »\n",
       "«                  ┌───┐ ░                         ░ ┌───┐                  »\n",
       "«passenger_0: ──■──┤ X ├─░────────■───■───■────────░─┤ X ├──■────■───■───■──»\n",
       "«               │  └───┘ ░        │   │   │        ░ ├───┤  │    │   │   │  »\n",
       "«passenger_1: ──■────────░────────■───■───■────────░─┤ X ├──■────■───■───■──»\n",
       "«               │  ┌───┐ ░ ┌───┐  │   │   │  ┌───┐ ░ └───┘  │    │   │   │  »\n",
       "«passenger_2: ──■──┤ X ├─░─┤ X ├──■───■───■──┤ X ├─░────────■────■───■───■──»\n",
       "«               │  └───┘ ░ └───┘  │   │   │  └───┘ ░      ┌─┴─┐  │   │   │  »\n",
       "«    rules_0: ──┼────────░────────┼───■───┼────────░──────┤ X ├──┼───■───┼──»\n",
       "«             ┌─┴─┐      ░      ┌─┴─┐ │ ┌─┴─┐      ░      └───┘┌─┴─┐ │ ┌─┴─┐»\n",
       "«    rules_1: ┤ X ├──────░──────┤ X ├─■─┤ X ├──────░───────────┤ X ├─■─┤ X ├»\n",
       "«             └───┘      ░      └───┘   └───┘      ░           └───┘   └───┘»\n",
       "«                  ┌───┐ ░ \n",
       "«passenger_0: ──■──┤ X ├─░─\n",
       "«               │  ├───┤ ░ \n",
       "«passenger_1: ──■──┤ X ├─░─\n",
       "«               │  └───┘ ░ \n",
       "«passenger_2: ──■────────░─\n",
       "«             ┌─┴─┐      ░ \n",
       "«    rules_0: ┤ X ├──────░─\n",
       "«             └───┘      ░ \n",
       "«    rules_1: ───────────░─\n",
       "«                        ░ "
      ]
     },
     "execution_count": 9,
     "metadata": {},
     "output_type": "execute_result"
    }
   ],
   "source": [
    "# Final structure of the Oracle\n",
    "\n",
    "oracle(current_passenger, group, q_pass, q_rules, True)"
   ]
  },
  {
   "cell_type": "code",
   "execution_count": 10,
   "id": "8e0575d4",
   "metadata": {},
   "outputs": [
    {
     "data": {
      "image/png": "[encoded data removed]",
      "text/plain": [
       "<Figure size 504x360 with 1 Axes>"
      ]
     },
     "execution_count": 10,
     "metadata": {},
     "output_type": "execute_result"
    }
   ],
   "source": [
    "# Initial probabilities of measurement \n",
    "\n",
    "from qiskit import Aer, execute\n",
    "from qiskit.visualization import plot_histogram\n",
    "\n",
    "results = execute(qc,Aer.get_backend('statevector_simulator')).result()\n",
    "plot_histogram(results.get_counts())"
   ]
  },
  {
   "cell_type": "code",
   "execution_count": 11,
   "id": "dbcdd386",
   "metadata": {},
   "outputs": [],
   "source": [
    "# Defining the Amplifier\n",
    "\n",
    "def amplifier(passenger, q_p, draw=False):\n",
    "    \n",
    "    a_qc=QuantumCircuit(q_p)\n",
    "    \n",
    "    a_qc.h(q_p)\n",
    "    a_qc.x(q_p)\n",
    "    a_qc.append(ZGate().control(QUBITS-1), q_p)\n",
    "    a_qc.x(q_p)\n",
    "    a_qc.h(q_p)\n",
    "    \n",
    "    if draw:\n",
    "        return a_qc.draw()\n",
    "    else:\n",
    "        Amplifier=a_qc.to_gate()\n",
    "        Amplifier.name=\"amplifier\"\n",
    "        return Amplifier"
   ]
  },
  {
   "cell_type": "code",
   "execution_count": 12,
   "id": "8d9be932",
   "metadata": {},
   "outputs": [
    {
     "data": {
      "text/html": [
       "<pre style=\"word-wrap: normal;white-space: pre;background: #fff0;line-height: 1.1;font-family: &quot;Courier New&quot;,Courier,monospace\">             ┌───┐┌───┐   ┌───┐┌───┐\n",
       "passenger_0: ┤ H ├┤ X ├─■─┤ X ├┤ H ├\n",
       "             ├───┤├───┤ │ ├───┤├───┤\n",
       "passenger_1: ┤ H ├┤ X ├─■─┤ X ├┤ H ├\n",
       "             ├───┤├───┤ │ ├───┤├───┤\n",
       "passenger_2: ┤ H ├┤ X ├─■─┤ X ├┤ H ├\n",
       "             └───┘└───┘   └───┘└───┘</pre>"
      ],
      "text/plain": [
       "             ┌───┐┌───┐   ┌───┐┌───┐\n",
       "passenger_0: ┤ H ├┤ X ├─■─┤ X ├┤ H ├\n",
       "             ├───┤├───┤ │ ├───┤├───┤\n",
       "passenger_1: ┤ H ├┤ X ├─■─┤ X ├┤ H ├\n",
       "             ├───┤├───┤ │ ├───┤├───┤\n",
       "passenger_2: ┤ H ├┤ X ├─■─┤ X ├┤ H ├\n",
       "             └───┘└───┘   └───┘└───┘"
      ]
     },
     "execution_count": 12,
     "metadata": {},
     "output_type": "execute_result"
    }
   ],
   "source": [
    "# Structure of the Amplifier\n",
    "\n",
    "amplifier(current_passenger, q_pass, draw=True)"
   ]
  },
  {
   "cell_type": "code",
   "execution_count": 13,
   "id": "e9b82682",
   "metadata": {},
   "outputs": [
    {
     "data": {
      "text/html": [
       "<pre style=\"word-wrap: normal;white-space: pre;background: #fff0;line-height: 1.1;font-family: &quot;Courier New&quot;,Courier,monospace\">             ┌───┐┌─────────┐┌────────────┐\n",
       "passenger_0: ┤ H ├┤0        ├┤0           ├\n",
       "             ├───┤│         ││            │\n",
       "passenger_1: ┤ H ├┤1        ├┤1 amplifier ├\n",
       "             ├───┤│         ││            │\n",
       "passenger_2: ┤ H ├┤2 oracle ├┤2           ├\n",
       "             └───┘│         │└────────────┘\n",
       "    rules_0: ─────┤3        ├──────────────\n",
       "                  │         │              \n",
       "    rules_1: ─────┤4        ├──────────────\n",
       "                  └─────────┘              </pre>"
      ],
      "text/plain": [
       "             ┌───┐┌─────────┐┌────────────┐\n",
       "passenger_0: ┤ H ├┤0        ├┤0           ├\n",
       "             ├───┤│         ││            │\n",
       "passenger_1: ┤ H ├┤1        ├┤1 amplifier ├\n",
       "             ├───┤│         ││            │\n",
       "passenger_2: ┤ H ├┤2 oracle ├┤2           ├\n",
       "             └───┘│         │└────────────┘\n",
       "    rules_0: ─────┤3        ├──────────────\n",
       "                  │         │              \n",
       "    rules_1: ─────┤4        ├──────────────\n",
       "                  └─────────┘              "
      ]
     },
     "execution_count": 13,
     "metadata": {},
     "output_type": "execute_result"
    }
   ],
   "source": [
    "# The compound operator as an Oracle-Amplifier combination\n",
    "\n",
    "qc=QuantumCircuit(q_pass, q_rules)\n",
    "\n",
    "qc.h(q_pass)\n",
    "\n",
    "qc.append(oracle(current_passenger, group, q_pass, q_rules), [*q_pass, *q_rules])\n",
    "\n",
    "qc.append(amplifier(current_passenger, q_pass), q_pass)\n",
    "\n",
    "qc.draw()"
   ]
  },
  {
   "cell_type": "code",
   "execution_count": 14,
   "id": "6e600e15",
   "metadata": {},
   "outputs": [
    {
     "data": {
      "image/png": "[encoded data removed]",
      "text/plain": [
       "<Figure size 504x360 with 1 Axes>"
      ]
     },
     "execution_count": 14,
     "metadata": {},
     "output_type": "execute_result"
    }
   ],
   "source": [
    "# Probabilities after amplification\n",
    "\n",
    "from qiskit import Aer, execute\n",
    "from qiskit.visualization import plot_histogram\n",
    "\n",
    "results = execute(qc,Aer.get_backend('statevector_simulator')).result()\n",
    "plot_histogram(results.get_counts())"
   ]
  },
  {
   "cell_type": "code",
   "execution_count": 15,
   "id": "68a30a45",
   "metadata": {},
   "outputs": [],
   "source": [
    "# Estimating the optimal number of iterations \n",
    "\n",
    "def rounds(number_of_rounds, qc, current_passenger, group, q_pass, q_rules):\n",
    "    print(\"{} iterations\".format(number_of_rounds))\n",
    "    \n",
    "    for i in range(0, round(number_of_rounds)):\n",
    "        qc.append(oracle(current_passenger, group, q_pass, q_rules), [*q_pass, *q_rules])\n",
    "        qc.append(amplifier(current_passenger, q_pass), q_pass)"
   ]
  },
  {
   "cell_type": "code",
   "execution_count": 16,
   "id": "79137a5e",
   "metadata": {},
   "outputs": [
    {
     "name": "stdout",
     "output_type": "stream",
     "text": [
      "2.221441469079183 iterations\n"
     ]
    },
    {
     "data": {
      "text/html": [
       "<pre style=\"word-wrap: normal;white-space: pre;background: #fff0;line-height: 1.1;font-family: &quot;Courier New&quot;,Courier,monospace\">             ┌───┐┌─────────┐┌────────────┐┌─────────┐┌────────────┐\n",
       "passenger_0: ┤ H ├┤0        ├┤0           ├┤0        ├┤0           ├\n",
       "             ├───┤│         ││            ││         ││            │\n",
       "passenger_1: ┤ H ├┤1        ├┤1 amplifier ├┤1        ├┤1 amplifier ├\n",
       "             ├───┤│         ││            ││         ││            │\n",
       "passenger_2: ┤ H ├┤2 oracle ├┤2           ├┤2 oracle ├┤2           ├\n",
       "             └───┘│         │└────────────┘│         │└────────────┘\n",
       "    rules_0: ─────┤3        ├──────────────┤3        ├──────────────\n",
       "                  │         │              │         │              \n",
       "    rules_1: ─────┤4        ├──────────────┤4        ├──────────────\n",
       "                  └─────────┘              └─────────┘              </pre>"
      ],
      "text/plain": [
       "             ┌───┐┌─────────┐┌────────────┐┌─────────┐┌────────────┐\n",
       "passenger_0: ┤ H ├┤0        ├┤0           ├┤0        ├┤0           ├\n",
       "             ├───┤│         ││            ││         ││            │\n",
       "passenger_1: ┤ H ├┤1        ├┤1 amplifier ├┤1        ├┤1 amplifier ├\n",
       "             ├───┤│         ││            ││         ││            │\n",
       "passenger_2: ┤ H ├┤2 oracle ├┤2           ├┤2 oracle ├┤2           ├\n",
       "             └───┘│         │└────────────┘│         │└────────────┘\n",
       "    rules_0: ─────┤3        ├──────────────┤3        ├──────────────\n",
       "                  │         │              │         │              \n",
       "    rules_1: ─────┤4        ├──────────────┤4        ├──────────────\n",
       "                  └─────────┘              └─────────┘              "
      ]
     },
     "execution_count": 16,
     "metadata": {},
     "output_type": "execute_result"
    }
   ],
   "source": [
    "# Finalized circuit\n",
    "\n",
    "from math import pi, sqrt\n",
    "qc=QuantumCircuit(q_pass, q_rules)\n",
    "\n",
    "qc.h(q_pass)\n",
    "rounds(pi*sqrt(2**QUBITS)/4, qc, current_passenger, group, q_pass, q_rules)\n",
    "qc.draw()"
   ]
  },
  {
   "cell_type": "code",
   "execution_count": 17,
   "id": "94befbac",
   "metadata": {},
   "outputs": [
    {
     "data": {
      "image/png": "[encoded data removed]",
      "text/plain": [
       "<Figure size 504x360 with 1 Axes>"
      ]
     },
     "execution_count": 17,
     "metadata": {},
     "output_type": "execute_result"
    }
   ],
   "source": [
    "# Maximized probability \n",
    "\n",
    "results=execute(qc, Aer.get_backend('statevector_simulator')).result().get_counts()\n",
    "plot_histogram(results)"
   ]
  }
 ],
 "metadata": {
  "kernelspec": {
   "display_name": "Python 3 (ipykernel)",
   "language": "python",
   "name": "python3"
  },
  "language_info": {
   "codemirror_mode": {
    "name": "ipython",
    "version": 3
   },
   "file_extension": ".py",
   "mimetype": "text/x-python",
   "name": "python",
   "nbconvert_exporter": "python",
   "pygments_lexer": "ipython3",
   "version": "3.9.12"
  }
 },
 "nbformat": 4,
 "nbformat_minor": 5
}
